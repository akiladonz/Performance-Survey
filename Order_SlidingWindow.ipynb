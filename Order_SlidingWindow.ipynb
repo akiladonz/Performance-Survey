{
 "cells": [
  {
   "cell_type": "code",
   "execution_count": 1,
   "metadata": {},
   "outputs": [],
   "source": [
    "import pandas as pd\n",
    "import numpy as np\n",
    "Lines= []\n",
    "f = open(r'C:\\Users\\katuwawalaai\\Proposal_Analysis\\DisprotDissimilar_319.txt')\n",
    "for line in f:\n",
    "    data_line = line.rstrip().split('\\t')\n",
    "    Lines.append(data_line)"
   ]
  },
  {
   "cell_type": "code",
   "execution_count": 2,
   "metadata": {},
   "outputs": [],
   "source": [
    "Uniprot_ID=[]\n",
    "AA_Sequence =[]\n",
    "Disorder_Annotations =[]\n",
    "Protein_Annotations =[]\n",
    "NUC_Annotations =[]\n",
    "J = len(Lines)-4\n",
    "b =0\n",
    "for b in range(0,J,5):\n",
    "    Uniprot_ID.append(Lines[b][0])\n",
    "    AA_Sequence.append(list(Lines[b+1][0]))\n",
    "    Disorder_Annotations.append(list(Lines[b+2][0]))\n",
    "    Protein_Annotations.append(list(Lines[b+3][0]))\n",
    "    NUC_Annotations.append(list(Lines[b+4][0]))"
   ]
  },
  {
   "cell_type": "code",
   "execution_count": 3,
   "metadata": {},
   "outputs": [],
   "source": [
    "Regions=[]\n",
    "Order_Indexes=[]\n",
    "b=0\n",
    "for b in range(0,len(Disorder_Annotations),1):\n",
    "         protein=Disorder_Annotations[b]\n",
    "         sequence=AA_Sequence[b]\n",
    "         regions=[]\n",
    "         orderindex=[]\n",
    "         c=0\n",
    "         for c in range(0,len(protein),1):\n",
    "                    if protein[c]=='0':\n",
    "                                   regions.append(sequence[c])\n",
    "                                   orderindex.append(c)\n",
    "         \n",
    "         ordermargins=[]\n",
    "         d = 0\n",
    "         for d in range(0, len(orderindex)-1 , 1):\n",
    "                            if orderindex[d+1]-orderindex[d] != 1:ordermargins.append(d+1)\n",
    "                        \n",
    "         regionsmul=np.split(regions,ordermargins) \n",
    "         regionind=np.split(orderindex,ordermargins) # = indexes of ordered regions in each protein\n",
    "         Regions.append(regionsmul)\n",
    "         Order_Indexes.append(regionind)"
   ]
  },
  {
   "cell_type": "code",
   "execution_count": 4,
   "metadata": {},
   "outputs": [],
   "source": [
    "Region_Reference=[]\n",
    "Region_Points=[]\n",
    "b=0\n",
    "for b in range(0,len(Order_Indexes),1):\n",
    "           sub_prots=Order_Indexes[b]\n",
    "           c=0\n",
    "           for c in range(0,len(sub_prots),1):\n",
    "                          Region_Reference.append(str(Uniprot_ID[b])+'_R'+str(c)) # giving unique id to each region \n",
    "                          Region_Points.append([b,c])   # b,c corresponding to protein id and its region id so later we can\n",
    "                                                        # easily get the indexes for corresponding region later"
   ]
  },
  {
   "cell_type": "code",
   "execution_count": 5,
   "metadata": {},
   "outputs": [],
   "source": [
    "New_Disorder_Annotations =[]\n",
    "New_Protein_Annotations =[]\n",
    "New_NUC_Annotations =[]\n",
    "b=0\n",
    "for b in range(0,len(Disorder_Annotations),1):\n",
    "                  New_Disorder_Annotations.append(list(map(int, Disorder_Annotations[b])))\n",
    "                  New_Protein_Annotations.append(list(map(int, Protein_Annotations[b])))\n",
    "                  New_NUC_Annotations.append(list(map(int, NUC_Annotations[b])))"
   ]
  },
  {
   "cell_type": "code",
   "execution_count": 6,
   "metadata": {},
   "outputs": [],
   "source": [
    "Disorder_Annotations = New_Disorder_Annotations  \n",
    "Protein_Annotations =New_Protein_Annotations \n",
    "NUC_Annotations =New_NUC_Annotations"
   ]
  },
  {
   "cell_type": "code",
   "execution_count": 7,
   "metadata": {},
   "outputs": [],
   "source": [
    "Protein_Count=[]\n",
    "NUC_Count=[]\n",
    "b=0\n",
    "for b in range(0,len(Disorder_Annotations),1):\n",
    "                                Protein_Count.append(sum(Protein_Annotations[b]))\n",
    "                                NUC_Count.append(sum(NUC_Annotations[b]))"
   ]
  },
  {
   "cell_type": "code",
   "execution_count": 8,
   "metadata": {},
   "outputs": [],
   "source": [
    "Protein_Index=[]\n",
    "b=0\n",
    "for b in range(0,len(Protein_Count),1):\n",
    "      if Protein_Count[b]>=1:\n",
    "                         Protein_Index.append(b)"
   ]
  },
  {
   "cell_type": "code",
   "execution_count": 9,
   "metadata": {},
   "outputs": [],
   "source": [
    "NUC_Index=[]\n",
    "b=0\n",
    "for b in range(0,len(NUC_Count),1):\n",
    "          if NUC_Count[b]>=1:\n",
    "                        NUC_Index.append(b)"
   ]
  },
  {
   "cell_type": "code",
   "execution_count": 10,
   "metadata": {},
   "outputs": [],
   "source": [
    "Normal_Index=list(np.arange(0,len(Disorder_Annotations),1))"
   ]
  },
  {
   "cell_type": "code",
   "execution_count": 11,
   "metadata": {},
   "outputs": [],
   "source": [
    "def DeletebadOrder(Input_List):\n",
    "            b=0\n",
    "            for b in range(0,len(Region_Reference),1):\n",
    "                if Region_Reference[b][1:] not in Mapped_Regions: \n",
    "                                        points=Region_Points[b]\n",
    "                                        target_list=Input_List[points[0]] # getting annotation list that we gonna modify\n",
    "                                        dele_indexes=Order_Indexes[points[0]][points[1]] # getting indexes to be deleted\n",
    "                                        new_anno=np.delete(target_list, dele_indexes).tolist() # delete the un mapped ordered indexes and making a new list\n",
    "                                        Input_List[points[0]]=new_anno # assigning modified array to designated position"
   ]
  },
  {
   "cell_type": "code",
   "execution_count": 12,
   "metadata": {},
   "outputs": [],
   "source": [
    "Sequence_Fracs=[]\n",
    "Region_Points=[]\n",
    "Region_Names=[]\n",
    "b=0\n",
    "for b in NUC_Index:\n",
    "           sub_prots=Regions[b]\n",
    "           c=0\n",
    "           for c in range(0,len(sub_prots),1):\n",
    "               if len(sub_prots[c])> 6:\n",
    "                          x = sub_prots[c]\n",
    "                          Sequence_Fracs.append(x) \n",
    "                          Region_Points.append([b,c])\n",
    "                          Region_Names.append(Uniprot_ID[b]+'_'+str(c))"
   ]
  },
  {
   "cell_type": "code",
   "execution_count": 13,
   "metadata": {},
   "outputs": [
    {
     "data": {
      "text/plain": [
       "['>E6PBU9_0',\n",
       " '>P9WHJ5_0',\n",
       " '>P9WHJ5_1',\n",
       " '>Q9V452_0',\n",
       " '>Q97QZ2_0',\n",
       " '>A8AZZ3_0',\n",
       " '>A8AZZ3_1',\n",
       " '>A8AZZ3_2',\n",
       " '>Q04660_0',\n",
       " '>Q04660_1',\n",
       " '>C0J347_0',\n",
       " '>Q9Y261_0',\n",
       " '>Q9Y261_1',\n",
       " '>P08392_0',\n",
       " '>P08392_1',\n",
       " '>P06401_0',\n",
       " '>P06401_1',\n",
       " '>P47047_0',\n",
       " '>P47047_1',\n",
       " '>P47047_2',\n",
       " '>P47047_3',\n",
       " '>Q2GI62_0',\n",
       " '>Q2GI62_1',\n",
       " '>A0A0P6V0V4_0',\n",
       " '>A0A0P6V0V4_1',\n",
       " '>A0A0P6V0V4_2']"
      ]
     },
     "execution_count": 13,
     "metadata": {},
     "output_type": "execute_result"
    }
   ],
   "source": [
    "Region_Names"
   ]
  },
  {
   "cell_type": "code",
   "execution_count": 14,
   "metadata": {},
   "outputs": [],
   "source": [
    "Segments=[]\n",
    "Seg_Names=[]\n",
    "b = 0\n",
    "for b in range(0,len(Sequence_Fracs),1):\n",
    "                 D=Sequence_Fracs[b]\n",
    "                 c=0\n",
    "                 for c in range(0,len(D)-6,1):\n",
    "                             Segments.append(D[c:c+7])\n",
    "                             Seg_Names.append(Region_Names[b]+'_'+str(c))"
   ]
  },
  {
   "cell_type": "code",
   "execution_count": 15,
   "metadata": {},
   "outputs": [
    {
     "data": {
      "text/plain": [
       "5400"
      ]
     },
     "execution_count": 15,
     "metadata": {},
     "output_type": "execute_result"
    }
   ],
   "source": [
    "len(Seg_Names)"
   ]
  },
  {
   "cell_type": "code",
   "execution_count": 16,
   "metadata": {},
   "outputs": [],
   "source": [
    "Lines=[]\n",
    "b=0\n",
    "for b in range(0,len(Segments),1):\n",
    "                          x = str(list(Segments[b]))\n",
    "                          x=x[1:-1]\n",
    "                          x = x.replace(\",\", \"\")\n",
    "                          x = x.replace(\" \", \"\")\n",
    "                          x = x.replace(\"'\", \"\")\n",
    "                          Lines.append(Seg_Names[b])\n",
    "                          Lines.append(x)          "
   ]
  },
  {
   "cell_type": "code",
   "execution_count": 17,
   "metadata": {},
   "outputs": [],
   "source": [
    "with open('Ordered_7Segments.txt', 'w') as f:\n",
    "    for item in Lines:\n",
    "        f.write(\"%s\\n\" % item)"
   ]
  },
  {
   "cell_type": "code",
   "execution_count": null,
   "metadata": {},
   "outputs": [],
   "source": []
  }
 ],
 "metadata": {
  "kernelspec": {
   "display_name": "Python 3",
   "language": "python",
   "name": "python3"
  },
  "language_info": {
   "codemirror_mode": {
    "name": "ipython",
    "version": 3
   },
   "file_extension": ".py",
   "mimetype": "text/x-python",
   "name": "python",
   "nbconvert_exporter": "python",
   "pygments_lexer": "ipython3",
   "version": "3.7.6"
  }
 },
 "nbformat": 4,
 "nbformat_minor": 4
}
