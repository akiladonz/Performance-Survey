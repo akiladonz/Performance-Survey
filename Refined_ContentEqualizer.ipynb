{
 "cells": [
  {
   "cell_type": "code",
   "execution_count": 1,
   "metadata": {},
   "outputs": [
    {
     "data": {
      "text/html": [
       "<div>\n",
       "<style scoped>\n",
       "    .dataframe tbody tr th:only-of-type {\n",
       "        vertical-align: middle;\n",
       "    }\n",
       "\n",
       "    .dataframe tbody tr th {\n",
       "        vertical-align: top;\n",
       "    }\n",
       "\n",
       "    .dataframe thead th {\n",
       "        text-align: right;\n",
       "    }\n",
       "</style>\n",
       "<table border=\"1\" class=\"dataframe\">\n",
       "  <thead>\n",
       "    <tr style=\"text-align: right;\">\n",
       "      <th></th>\n",
       "      <th>Unnamed: 0</th>\n",
       "      <th>Protein_Fractions</th>\n",
       "      <th>NUC_Fractions</th>\n",
       "      <th>Normal_Fractions</th>\n",
       "    </tr>\n",
       "  </thead>\n",
       "  <tbody>\n",
       "    <tr>\n",
       "      <th>0</th>\n",
       "      <td>0</td>\n",
       "      <td>0.033333</td>\n",
       "      <td>0.536232</td>\n",
       "      <td>0.033333</td>\n",
       "    </tr>\n",
       "    <tr>\n",
       "      <th>1</th>\n",
       "      <td>1</td>\n",
       "      <td>0.208955</td>\n",
       "      <td>0.485714</td>\n",
       "      <td>0.102564</td>\n",
       "    </tr>\n",
       "    <tr>\n",
       "      <th>2</th>\n",
       "      <td>2</td>\n",
       "      <td>0.536232</td>\n",
       "      <td>0.398734</td>\n",
       "      <td>0.192188</td>\n",
       "    </tr>\n",
       "    <tr>\n",
       "      <th>3</th>\n",
       "      <td>3</td>\n",
       "      <td>0.461078</td>\n",
       "      <td>0.044610</td>\n",
       "      <td>0.468254</td>\n",
       "    </tr>\n",
       "    <tr>\n",
       "      <th>4</th>\n",
       "      <td>4</td>\n",
       "      <td>0.402778</td>\n",
       "      <td>0.433190</td>\n",
       "      <td>0.432432</td>\n",
       "    </tr>\n",
       "  </tbody>\n",
       "</table>\n",
       "</div>"
      ],
      "text/plain": [
       "   Unnamed: 0  Protein_Fractions  NUC_Fractions  Normal_Fractions\n",
       "0           0           0.033333       0.536232          0.033333\n",
       "1           1           0.208955       0.485714          0.102564\n",
       "2           2           0.536232       0.398734          0.192188\n",
       "3           3           0.461078       0.044610          0.468254\n",
       "4           4           0.402778       0.433190          0.432432"
      ]
     },
     "execution_count": 1,
     "metadata": {},
     "output_type": "execute_result"
    }
   ],
   "source": [
    "import numpy as np\n",
    "import pandas as pd\n",
    "file = (r\"Refined_OriginalDistributions2.csv\")\n",
    "Disorder_Fractions= pd.read_csv(file)\n",
    "Disorder_Fractions.head()"
   ]
  },
  {
   "cell_type": "code",
   "execution_count": 2,
   "metadata": {},
   "outputs": [],
   "source": [
    "Protein_Fractions= Disorder_Fractions.iloc[:,(1)].values\n",
    "NUC_Fractions= Disorder_Fractions.iloc[:,(2)].values\n",
    "Normal_Fractions= Disorder_Fractions.iloc[:,(3)].values"
   ]
  },
  {
   "cell_type": "code",
   "execution_count": 3,
   "metadata": {},
   "outputs": [],
   "source": [
    "Protein_Fractions= [x for x in Protein_Fractions if ~np.isnan(x)]\n",
    "NUC_Fractions= [x for x in NUC_Fractions if ~np.isnan(x)]\n",
    "Normal_Fractions= [x for x in Normal_Fractions if ~np.isnan(x)]"
   ]
  },
  {
   "cell_type": "code",
   "execution_count": 4,
   "metadata": {},
   "outputs": [
    {
     "data": {
      "text/plain": [
       "12"
      ]
     },
     "execution_count": 4,
     "metadata": {},
     "output_type": "execute_result"
    }
   ],
   "source": [
    "len(NUC_Fractions)"
   ]
  },
  {
   "cell_type": "code",
   "execution_count": 5,
   "metadata": {},
   "outputs": [
    {
     "name": "stdout",
     "output_type": "stream",
     "text": [
      "0.005591524426133019\n",
      "1.0\n",
      "0.3461538461538461\n"
     ]
    }
   ],
   "source": [
    "print(min(Protein_Fractions))\n",
    "print(max(Protein_Fractions))\n",
    "print(np.median(Protein_Fractions))"
   ]
  },
  {
   "cell_type": "code",
   "execution_count": 6,
   "metadata": {},
   "outputs": [
    {
     "name": "stdout",
     "output_type": "stream",
     "text": [
      "0.027857829010566763\n",
      "1.0\n",
      "0.41596191619380185\n"
     ]
    }
   ],
   "source": [
    "print(min(NUC_Fractions))\n",
    "print(max(NUC_Fractions))\n",
    "print(np.median(NUC_Fractions))"
   ]
  },
  {
   "cell_type": "code",
   "execution_count": 7,
   "metadata": {},
   "outputs": [
    {
     "name": "stdout",
     "output_type": "stream",
     "text": [
      "0.005591524426133019\n",
      "1.0\n",
      "0.2762791021887634\n"
     ]
    }
   ],
   "source": [
    "print(min(Normal_Fractions))\n",
    "print(max(Normal_Fractions))\n",
    "print(np.median(Normal_Fractions))"
   ]
  },
  {
   "cell_type": "code",
   "execution_count": 8,
   "metadata": {},
   "outputs": [],
   "source": [
    "from scipy.stats import ks_2samp\n",
    "Comb_Dist=[Protein_Fractions,NUC_Fractions,Normal_Fractions]\n",
    "KS=[]\n",
    "b=0\n",
    "for b in range(0,len(Comb_Dist),1):\n",
    "    p_value=[]\n",
    "    c=0\n",
    "    for c in range(0,len(Comb_Dist),1):\n",
    "        ks,p=ks_2samp(Comb_Dist[b],Comb_Dist[c])\n",
    "        p_value.append(p)\n",
    "    KS.append(p_value)"
   ]
  },
  {
   "cell_type": "code",
   "execution_count": 9,
   "metadata": {},
   "outputs": [
    {
     "data": {
      "text/html": [
       "<div>\n",
       "<style scoped>\n",
       "    .dataframe tbody tr th:only-of-type {\n",
       "        vertical-align: middle;\n",
       "    }\n",
       "\n",
       "    .dataframe tbody tr th {\n",
       "        vertical-align: top;\n",
       "    }\n",
       "\n",
       "    .dataframe thead th {\n",
       "        text-align: right;\n",
       "    }\n",
       "</style>\n",
       "<table border=\"1\" class=\"dataframe\">\n",
       "  <thead>\n",
       "    <tr style=\"text-align: right;\">\n",
       "      <th></th>\n",
       "      <th>0</th>\n",
       "      <th>1</th>\n",
       "      <th>2</th>\n",
       "    </tr>\n",
       "  </thead>\n",
       "  <tbody>\n",
       "    <tr>\n",
       "      <th>0</th>\n",
       "      <td>1.000000</td>\n",
       "      <td>0.313880</td>\n",
       "      <td>0.156388</td>\n",
       "    </tr>\n",
       "    <tr>\n",
       "      <th>1</th>\n",
       "      <td>0.313880</td>\n",
       "      <td>1.000000</td>\n",
       "      <td>0.411491</td>\n",
       "    </tr>\n",
       "    <tr>\n",
       "      <th>2</th>\n",
       "      <td>0.156388</td>\n",
       "      <td>0.411491</td>\n",
       "      <td>1.000000</td>\n",
       "    </tr>\n",
       "  </tbody>\n",
       "</table>\n",
       "</div>"
      ],
      "text/plain": [
       "          0         1         2\n",
       "0  1.000000  0.313880  0.156388\n",
       "1  0.313880  1.000000  0.411491\n",
       "2  0.156388  0.411491  1.000000"
      ]
     },
     "execution_count": 9,
     "metadata": {},
     "output_type": "execute_result"
    }
   ],
   "source": [
    "JABU = pd.DataFrame(KS)\n",
    "JABU "
   ]
  },
  {
   "cell_type": "code",
   "execution_count": 10,
   "metadata": {},
   "outputs": [],
   "source": [
    "Zero_count=0\n",
    "One_count=0\n",
    "Two_count=0\n",
    "Three_count=0\n",
    "Four_count=0\n",
    "Five_count=0\n",
    "Six_count=0\n",
    "Seven_count=0\n",
    "Eight_count=0\n",
    "Nine_count=0\n",
    "b=0\n",
    "Fraction_List=NUC_Fractions\n",
    "for b in range(0,len(Fraction_List),1):\n",
    "         if Fraction_List[b]<=0.1:Zero_count=Zero_count+1\n",
    "         elif Fraction_List[b]<=0.2:One_count=One_count+1\n",
    "         elif Fraction_List[b]<=0.3:Two_count=Two_count+1\n",
    "         elif Fraction_List[b]<=0.4:Three_count=Three_count+1\n",
    "         elif Fraction_List[b]<=0.5:Four_count=Four_count+1\n",
    "         elif Fraction_List[b]<=0.6:Five_count=Five_count+1\n",
    "         elif Fraction_List[b]<=0.7:Six_count=Six_count+1\n",
    "         elif Fraction_List[b]<=0.8:Seven_count=Seven_count+1\n",
    "         elif Fraction_List[b]<=0.9:Eight_count=Eight_count+1\n",
    "         elif Fraction_List[b]<=1.0:Nine_count=Nine_count+1\n",
    "Fration_Fractions=[Zero_count/len(Fraction_List),\n",
    "One_count/len(Fraction_List),\n",
    "Two_count/len(Fraction_List),\n",
    "Three_count/len(Fraction_List),\n",
    "Four_count/len(Fraction_List),\n",
    "Five_count/len(Fraction_List),\n",
    "Six_count/len(Fraction_List),\n",
    "Seven_count/len(Fraction_List),\n",
    "Eight_count/len(Fraction_List),\n",
    "Nine_count/len(Fraction_List)]"
   ]
  },
  {
   "cell_type": "code",
   "execution_count": 11,
   "metadata": {},
   "outputs": [
    {
     "data": {
      "text/plain": [
       "[0.4166666666666667,\n",
       " 0.0,\n",
       " 0.0,\n",
       " 0.08333333333333333,\n",
       " 0.16666666666666666,\n",
       " 0.08333333333333333,\n",
       " 0.08333333333333333,\n",
       " 0.0,\n",
       " 0.0,\n",
       " 0.16666666666666666]"
      ]
     },
     "execution_count": 11,
     "metadata": {},
     "output_type": "execute_result"
    }
   ],
   "source": [
    "Fration_Fractions"
   ]
  },
  {
   "cell_type": "code",
   "execution_count": 12,
   "metadata": {},
   "outputs": [],
   "source": [
    "def Function_Counts(Fraction_List):\n",
    "         Range_Counts=[Fration_Fractions[0]*len(Fraction_List),\n",
    "                        Fration_Fractions[1]*len(Fraction_List),\n",
    "                        Fration_Fractions[2]*len(Fraction_List),\n",
    "                        Fration_Fractions[3]*len(Fraction_List),\n",
    "                        Fration_Fractions[4]*len(Fraction_List),\n",
    "                        Fration_Fractions[5]*len(Fraction_List),\n",
    "                        Fration_Fractions[6]*len(Fraction_List),\n",
    "                        Fration_Fractions[7]*len(Fraction_List),\n",
    "                        Fration_Fractions[8]*len(Fraction_List),\n",
    "                        Fration_Fractions[9]*len(Fraction_List)]\n",
    "         return Range_Counts"
   ]
  },
  {
   "cell_type": "code",
   "execution_count": 13,
   "metadata": {},
   "outputs": [],
   "source": [
    "Protein_Counts=Function_Counts(Protein_Fractions)\n",
    "NUC_Counts=Function_Counts(NUC_Fractions)\n",
    "Normal_Counts=Function_Counts(Normal_Fractions)"
   ]
  },
  {
   "cell_type": "code",
   "execution_count": 14,
   "metadata": {},
   "outputs": [],
   "source": [
    "def Modify_Content(Fraction_List,Count_List):\n",
    "\t\tZero_count=0\n",
    "\t\tOne_count=0\n",
    "\t\tTwo_count=0\n",
    "\t\tThree_count=0\n",
    "\t\tFour_count=0\n",
    "\t\tFive_count=0\n",
    "\t\tSix_count=0\n",
    "\t\tSeven_count=0\n",
    "\t\tEight_count=0\n",
    "\t\tNine_count=0\n",
    "\t\tZero_fractions=[]\n",
    "\t\tOne_fractions=[]\n",
    "\t\tTwo_fractions=[]\n",
    "\t\tThree_fractions=[]\n",
    "\t\tFour_fractions=[]\n",
    "\t\tFive_fractions=[]\n",
    "\t\tSix_fractions=[]\n",
    "\t\tSeven_fractions=[]\n",
    "\t\tEight_fractions=[]\n",
    "\t\tNine_fractions=[]\n",
    "\t\tZero_indexes=[]\n",
    "\t\tOne_indexes=[]\n",
    "\t\tTwo_indexes=[]\n",
    "\t\tThree_indexes=[]\n",
    "\t\tFour_indexes=[]\n",
    "\t\tFive_indexes=[]\n",
    "\t\tSix_indexes=[]\n",
    "\t\tSeven_indexes=[]\n",
    "\t\tEight_indexes=[]\n",
    "\t\tNine_indexes=[]\n",
    "\t\tb=0\n",
    "\t\tfor b in range(0,len(Fraction_List),1):\n",
    "\t\t\t\tif 0.0<Fraction_List[b]<=0.1 and Zero_count<Count_List[0]:\n",
    "\t\t\t\t\t\t\t\tZero_fractions.append(Fraction_List[b])\n",
    "\t\t\t\t\t\t\t\tZero_indexes.append(b)\n",
    "\t\t\t\t\t\t\t\tZero_count=Zero_count+1\n",
    "\t\t\t\tif 0.1 <Fraction_List[b]<=0.2 and One_count<Count_List[1]:\n",
    "\t\t\t\t\t\t\t\tOne_fractions.append(Fraction_List[b])\n",
    "\t\t\t\t\t\t\t\tOne_indexes.append(b)\n",
    "\t\t\t\t\t\t\t\tOne_count=One_count+1\n",
    "\t\t\t\tif 0.2<Fraction_List[b]<=0.3 and Two_count<Count_List[2]:\n",
    "\t\t\t\t\t\t\t\tTwo_fractions.append(Fraction_List[b])\n",
    "\t\t\t\t\t\t\t\tTwo_indexes.append(b)\n",
    "\t\t\t\t\t\t\t\tTwo_count=Two_count+1\n",
    "\t\t\t\tif 0.3<Fraction_List[b]<=0.4 and Three_count<Count_List[3]:\n",
    "\t\t\t\t\t\t\t\tThree_fractions.append(Fraction_List[b])\n",
    "\t\t\t\t\t\t\t\tThree_indexes.append(b)\n",
    "\t\t\t\t\t\t\t\tThree_count=Three_count+1\n",
    "\t\t\t\tif 0.4<Fraction_List[b]<=0.5 and Four_count<Count_List[4]:\n",
    "\t\t\t\t\t\t\t\tFour_fractions.append(Fraction_List[b])\n",
    "\t\t\t\t\t\t\t\tFour_indexes.append(b)\n",
    "\t\t\t\t\t\t\t\tFour_count=Four_count+1\n",
    "\t\t\t\tif 0.5<Fraction_List[b]<=0.6 and Five_count<Count_List[5]:\n",
    "\t\t\t\t\t\t\t\tFive_fractions.append(Fraction_List[b])\n",
    "\t\t\t\t\t\t\t\tFive_indexes.append(b)\n",
    "\t\t\t\t\t\t\t\tFive_count=Five_count+1\n",
    "\t\t\t\tif 0.6<Fraction_List[b]<=0.7 and Six_count<Count_List[6]:\n",
    "\t\t\t\t\t\t\t\tSix_fractions.append(Fraction_List[b])\n",
    "\t\t\t\t\t\t\t\tSix_indexes.append(b)\n",
    "\t\t\t\t\t\t\t\tSix_count=Six_count+1\n",
    "\t\t\t\tif 0.7<Fraction_List[b]<=0.8 and Seven_count<Count_List[7]:\n",
    "\t\t\t\t\t\t\t\tSeven_fractions.append(Fraction_List[b])\n",
    "\t\t\t\t\t\t\t\tSeven_indexes.append(b)\n",
    "\t\t\t\t\t\t\t\tSeven_count=Seven_count+1\n",
    "\t\t\t\tif 0.8<Fraction_List[b]<=0.9 and Eight_count<Count_List[8]:\n",
    "\t\t\t\t\t\t\t\tEight_fractions.append(Fraction_List[b])\n",
    "\t\t\t\t\t\t\t\tEight_indexes.append(b)\n",
    "\t\t\t\t\t\t\t\tEight_count=Eight_count+1\n",
    "\t\t\t\tif 0.9<Fraction_List[b]<=1.0 and Nine_count<Count_List[9]:\n",
    "\t\t\t\t\t\t\t\tNine_fractions.append(Fraction_List[b])\n",
    "\t\t\t\t\t\t\t\tNine_indexes.append(b)\n",
    "\t\t\t\t\t\t\t\tNine_count=Zero_count+1\n",
    "\t\tCombined_Fractions= Zero_fractions+One_fractions+Two_fractions+Three_fractions+Four_fractions+Five_fractions+Six_fractions+Seven_fractions+Eight_fractions+Nine_fractions \n",
    "\t\tCombined_indexes= Zero_indexes+One_indexes+Two_indexes+Three_indexes+Four_indexes+Five_indexes+Six_indexes+Seven_indexes+Eight_indexes+Nine_indexes \n",
    "\t\treturn Combined_Fractions, Combined_indexes                                                       "
   ]
  },
  {
   "cell_type": "code",
   "execution_count": 15,
   "metadata": {},
   "outputs": [],
   "source": [
    "Protein_ModifiedFractions,Protein_ModifiedIndexes=Modify_Content(Protein_Fractions,Protein_Counts)\n",
    "NUC_ModifiedFractions,NUC_ModifiedIndexes=Modify_Content(NUC_Fractions,NUC_Counts)\n",
    "Normal_ModifiedFractions,Normal_ModifiedIndexes=Modify_Content(Normal_Fractions,Normal_Counts)"
   ]
  },
  {
   "cell_type": "code",
   "execution_count": 16,
   "metadata": {},
   "outputs": [],
   "source": [
    "Comb_Dist=[Protein_ModifiedFractions,NUC_ModifiedFractions,Normal_ModifiedFractions]\n",
    "KS=[]\n",
    "b=0\n",
    "for b in range(0,len(Comb_Dist),1):\n",
    "    p_value=[]\n",
    "    c=0\n",
    "    for c in range(0,len(Comb_Dist),1):\n",
    "        ks,p=ks_2samp(Comb_Dist[b],Comb_Dist[c])\n",
    "        p_value.append(p)\n",
    "    KS.append(p_value)"
   ]
  },
  {
   "cell_type": "code",
   "execution_count": 17,
   "metadata": {},
   "outputs": [
    {
     "data": {
      "text/html": [
       "<div>\n",
       "<style scoped>\n",
       "    .dataframe tbody tr th:only-of-type {\n",
       "        vertical-align: middle;\n",
       "    }\n",
       "\n",
       "    .dataframe tbody tr th {\n",
       "        vertical-align: top;\n",
       "    }\n",
       "\n",
       "    .dataframe thead th {\n",
       "        text-align: right;\n",
       "    }\n",
       "</style>\n",
       "<table border=\"1\" class=\"dataframe\">\n",
       "  <thead>\n",
       "    <tr style=\"text-align: right;\">\n",
       "      <th></th>\n",
       "      <th>0</th>\n",
       "      <th>1</th>\n",
       "      <th>2</th>\n",
       "    </tr>\n",
       "  </thead>\n",
       "  <tbody>\n",
       "    <tr>\n",
       "      <th>0</th>\n",
       "      <td>1.000000</td>\n",
       "      <td>0.779313</td>\n",
       "      <td>0.339002</td>\n",
       "    </tr>\n",
       "    <tr>\n",
       "      <th>1</th>\n",
       "      <td>0.779313</td>\n",
       "      <td>1.000000</td>\n",
       "      <td>0.811555</td>\n",
       "    </tr>\n",
       "    <tr>\n",
       "      <th>2</th>\n",
       "      <td>0.339002</td>\n",
       "      <td>0.811555</td>\n",
       "      <td>1.000000</td>\n",
       "    </tr>\n",
       "  </tbody>\n",
       "</table>\n",
       "</div>"
      ],
      "text/plain": [
       "          0         1         2\n",
       "0  1.000000  0.779313  0.339002\n",
       "1  0.779313  1.000000  0.811555\n",
       "2  0.339002  0.811555  1.000000"
      ]
     },
     "execution_count": 17,
     "metadata": {},
     "output_type": "execute_result"
    }
   ],
   "source": [
    "JABU = pd.DataFrame(KS)\n",
    "JABU "
   ]
  },
  {
   "cell_type": "code",
   "execution_count": 18,
   "metadata": {},
   "outputs": [
    {
     "name": "stdout",
     "output_type": "stream",
     "text": [
      "0.005591524426133019\n",
      "1.0\n",
      "0.40075597749648384\n"
     ]
    }
   ],
   "source": [
    "print(min(Protein_ModifiedFractions))\n",
    "print(max(Protein_ModifiedFractions))\n",
    "print(np.median(Protein_ModifiedFractions))"
   ]
  },
  {
   "cell_type": "code",
   "execution_count": 19,
   "metadata": {},
   "outputs": [
    {
     "name": "stdout",
     "output_type": "stream",
     "text": [
      "0.027857829010566763\n",
      "1.0\n",
      "0.3987341772151899\n"
     ]
    }
   ],
   "source": [
    "print(min(NUC_ModifiedFractions))\n",
    "print(max(NUC_ModifiedFractions))\n",
    "print(np.median(NUC_ModifiedFractions))"
   ]
  },
  {
   "cell_type": "code",
   "execution_count": 20,
   "metadata": {},
   "outputs": [
    {
     "name": "stdout",
     "output_type": "stream",
     "text": [
      "0.005591524426133019\n",
      "1.0\n",
      "0.3138686131386861\n"
     ]
    }
   ],
   "source": [
    "print(min(Normal_ModifiedFractions))\n",
    "print(max(Normal_ModifiedFractions))\n",
    "print(np.median(Normal_ModifiedFractions))"
   ]
  },
  {
   "cell_type": "code",
   "execution_count": 21,
   "metadata": {},
   "outputs": [
    {
     "data": {
      "text/html": [
       "<div>\n",
       "<style scoped>\n",
       "    .dataframe tbody tr th:only-of-type {\n",
       "        vertical-align: middle;\n",
       "    }\n",
       "\n",
       "    .dataframe tbody tr th {\n",
       "        vertical-align: top;\n",
       "    }\n",
       "\n",
       "    .dataframe thead th {\n",
       "        text-align: right;\n",
       "    }\n",
       "</style>\n",
       "<table border=\"1\" class=\"dataframe\">\n",
       "  <thead>\n",
       "    <tr style=\"text-align: right;\">\n",
       "      <th></th>\n",
       "      <th>Protein_ModifiedIndexe</th>\n",
       "      <th>NUC_ModifiedIndexes</th>\n",
       "      <th>Normal_ModifiedIndexes</th>\n",
       "    </tr>\n",
       "  </thead>\n",
       "  <tbody>\n",
       "    <tr>\n",
       "      <th>0</th>\n",
       "      <td>0.0</td>\n",
       "      <td>3.0</td>\n",
       "      <td>0</td>\n",
       "    </tr>\n",
       "    <tr>\n",
       "      <th>1</th>\n",
       "      <td>12.0</td>\n",
       "      <td>5.0</td>\n",
       "      <td>21</td>\n",
       "    </tr>\n",
       "    <tr>\n",
       "      <th>2</th>\n",
       "      <td>20.0</td>\n",
       "      <td>6.0</td>\n",
       "      <td>37</td>\n",
       "    </tr>\n",
       "    <tr>\n",
       "      <th>3</th>\n",
       "      <td>24.0</td>\n",
       "      <td>8.0</td>\n",
       "      <td>44</td>\n",
       "    </tr>\n",
       "    <tr>\n",
       "      <th>4</th>\n",
       "      <td>25.0</td>\n",
       "      <td>9.0</td>\n",
       "      <td>56</td>\n",
       "    </tr>\n",
       "    <tr>\n",
       "      <th>...</th>\n",
       "      <td>...</td>\n",
       "      <td>...</td>\n",
       "      <td>...</td>\n",
       "    </tr>\n",
       "    <tr>\n",
       "      <th>120</th>\n",
       "      <td>NaN</td>\n",
       "      <td>NaN</td>\n",
       "      <td>76</td>\n",
       "    </tr>\n",
       "    <tr>\n",
       "      <th>121</th>\n",
       "      <td>NaN</td>\n",
       "      <td>NaN</td>\n",
       "      <td>79</td>\n",
       "    </tr>\n",
       "    <tr>\n",
       "      <th>122</th>\n",
       "      <td>NaN</td>\n",
       "      <td>NaN</td>\n",
       "      <td>82</td>\n",
       "    </tr>\n",
       "    <tr>\n",
       "      <th>123</th>\n",
       "      <td>NaN</td>\n",
       "      <td>NaN</td>\n",
       "      <td>131</td>\n",
       "    </tr>\n",
       "    <tr>\n",
       "      <th>124</th>\n",
       "      <td>NaN</td>\n",
       "      <td>NaN</td>\n",
       "      <td>210</td>\n",
       "    </tr>\n",
       "  </tbody>\n",
       "</table>\n",
       "<p>125 rows × 3 columns</p>\n",
       "</div>"
      ],
      "text/plain": [
       "     Protein_ModifiedIndexe  NUC_ModifiedIndexes  Normal_ModifiedIndexes\n",
       "0                       0.0                  3.0                       0\n",
       "1                      12.0                  5.0                      21\n",
       "2                      20.0                  6.0                      37\n",
       "3                      24.0                  8.0                      44\n",
       "4                      25.0                  9.0                      56\n",
       "..                      ...                  ...                     ...\n",
       "120                     NaN                  NaN                      76\n",
       "121                     NaN                  NaN                      79\n",
       "122                     NaN                  NaN                      82\n",
       "123                     NaN                  NaN                     131\n",
       "124                     NaN                  NaN                     210\n",
       "\n",
       "[125 rows x 3 columns]"
      ]
     },
     "execution_count": 21,
     "metadata": {},
     "output_type": "execute_result"
    }
   ],
   "source": [
    "ModifiedDistri_Indexes=pd.DataFrame({'Protein_ModifiedIndexe':pd.Series(Protein_ModifiedIndexes),                \n",
    "                                     'NUC_ModifiedIndexes':pd.Series(NUC_ModifiedIndexes),\n",
    "                                     'Normal_ModifiedIndexes':pd.Series(Normal_ModifiedIndexes)})   \n",
    "ModifiedDistri_Indexes"
   ]
  },
  {
   "cell_type": "code",
   "execution_count": 22,
   "metadata": {},
   "outputs": [
    {
     "data": {
      "image/png": "[encoded data removed]",
      "text/plain": [
       "<Figure size 1440x720 with 3 Axes>"
      ]
     },
     "metadata": {
      "needs_background": "light"
     },
     "output_type": "display_data"
    }
   ],
   "source": [
    "import matplotlib.pyplot as plt\n",
    "n_bins = 10\n",
    "fig, axs = plt.subplots(1, 3, sharey=False, tight_layout=True, figsize=(20,10))\n",
    "axs[0].hist(Protein_Fractions, bins=n_bins,color='r',label='Protein')\n",
    "axs[0].grid()\n",
    "axs[0].legend()\n",
    "axs[1].hist(NUC_Fractions, bins=n_bins,color='g',label='Nucleic Acids')\n",
    "axs[1].grid()\n",
    "axs[1].legend()\n",
    "axs[2].hist(Normal_Fractions, bins=n_bins,color='b',label='Overall')\n",
    "axs[2].grid()\n",
    "axs[2].legend()\n",
    "plt.show()"
   ]
  },
  {
   "cell_type": "code",
   "execution_count": 23,
   "metadata": {},
   "outputs": [
    {
     "data": {
      "image/png": "[encoded data removed]",
      "text/plain": [
       "<Figure size 1440x720 with 3 Axes>"
      ]
     },
     "metadata": {
      "needs_background": "light"
     },
     "output_type": "display_data"
    }
   ],
   "source": [
    "import matplotlib.pyplot as plt\n",
    "n_bins = 10\n",
    "fig, axs = plt.subplots(1, 3, sharey=False, tight_layout=True, figsize=(20,10))\n",
    "axs[0].hist(Protein_ModifiedFractions, bins=n_bins,color='r',label='Protein')\n",
    "\n",
    "axs[0].grid()\n",
    "axs[0].legend()\n",
    "axs[1].hist(NUC_ModifiedFractions, bins=n_bins,color='g',label='Nucleic Acids')\n",
    "\n",
    "axs[1].grid()\n",
    "axs[1].legend()\n",
    "axs[2].hist(Normal_ModifiedFractions, bins=n_bins,color='b',label='Overall')\n",
    "\n",
    "axs[2].grid()\n",
    "axs[2].legend()\n",
    "plt.show()"
   ]
  },
  {
   "cell_type": "code",
   "execution_count": 24,
   "metadata": {},
   "outputs": [],
   "source": [
    "#ModifiedDistri_Indexes.to_csv('Refined_ModifiedDistri_Indexes3.csv')"
   ]
  },
  {
   "cell_type": "code",
   "execution_count": null,
   "metadata": {},
   "outputs": [],
   "source": []
  }
 ],
 "metadata": {
  "kernelspec": {
   "display_name": "Python 3",
   "language": "python",
   "name": "python3"
  },
  "language_info": {
   "codemirror_mode": {
    "name": "ipython",
    "version": 3
   },
   "file_extension": ".py",
   "mimetype": "text/x-python",
   "name": "python",
   "nbconvert_exporter": "python",
   "pygments_lexer": "ipython3",
   "version": "3.7.7"
  }
 },
 "nbformat": 4,
 "nbformat_minor": 4
}
